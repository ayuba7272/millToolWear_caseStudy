{
 "cells": [
  {
   "cell_type": "markdown",
   "id": "02ea53ad",
   "metadata": {},
   "source": [
    "# CNC Milling Tool Wear - CaseStudy"
   ]
  },
  {
   "cell_type": "markdown",
   "id": "4924fbbb",
   "metadata": {},
   "source": [
    "## About Dataset\n",
    "\n",
    "### Context\n",
    "A series of machining experiments were run on 2\" x 2\" x 1.5\" wax blocks in a CNC milling machine in the System-level Manufacturing and Automation Research Testbed (SMART) at the University of Michigan. Machining data was collected from a CNC machine for variations of tool condition, feed rate, and clamping pressure. Each experiment produced a finished wax part with an \"S\" shape - S for smart manufacturing - carved into the top face, as shown in test_artifact.jpg (included in the dataset).\n",
    "\n",
    "### Content\n",
    "General data from each of the 18 different experiments are given in train.csv and includes the experiment number, material (wax), feed rate, and clamp pressure. Outputs per experiment include tool condition (unworn and worn tools) and whether or not the tool passed visual inspection.\n",
    "\n",
    "Time series data was collected from the 18 experiments with a sampling rate of 100 ms and are separately reported in files experiment_01.csv to experiment_18.csv. Each file has measurements from the 4 motors in the CNC (X, Y, Z axes and spindle). These CNC measurements can be used in two ways:\n",
    "\n",
    "1. Taking every CNC measurement as an independent observation where the operation being performed is given in the Machining_Process column. Active machining operations are labeled as \"Layer 1 Up\", \"Layer 1 Down\", \"Layer 2 Up\", \"Layer 2 Down\", \"Layer 3 Up\", and \"Layer 3 Down\".\n",
    "2. Taking each one of the 18 experiments (the entire time series) as an observation for time series classification\n",
    "\n",
    "Note that some variables will not accurately reflect the operation of the CNC machine. This can usually be detected by when M1_CURRENT_FEEDRATE reads 50, when X1 ActualPosition reads 198, or when M1_CURRENT_PROGRAM_NUMBER does not read 0. The source of these errors has not been identified.\n",
    "\n",
    "\n",
    "### Acknowledgements\n",
    "This data was extracted using the Rockwell Cloud Collector Agent Elastic software from a CNC milling machine in the System-level Manufacturing and Automation Research Testbed (SMART) at the University of Michigan.\n",
    "\n",
    "### Inspiration\n",
    "\n",
    "The dataset can be used in classification studies such as:\n",
    "\n",
    "1. **Tool wear detection** : Supervised binary classification could be performed for identification of worn and unworn cutting tools. Eight experiments were run with an unworn tool while ten were run with a worn tool (see tool_condition column for indication).\n",
    "2. **Detection of inadequate clamping** : The data could be used to detect when a workpiece is not being held in the vise with sufficient pressure to pass visual inspection (see passed_visual_inspection column for indication of visual flaws). Experiments were run with pressures of 2.5, 3.0, and 4.0 bar. The data could also be used for detecting when conditions are critical enough to prevent the machining operation from completing (see machining_completed column for indication of when machining was preemptively stopped due to safety concerns)."
   ]
  },
  {
   "cell_type": "code",
   "execution_count": 1,
   "id": "c8fc6b86",
   "metadata": {},
   "outputs": [],
   "source": [
    "import pandas as pd    #Pandas Library to work on tabular data\n",
    "import numpy as np     #Numerical Python Library to use mathematical functions\n",
    "import matplotlib.pyplot as plt    #Mathematical plotting library \n",
    "import seaborn as sns    #Visualization Library Seaborn\n",
    "import os   # OS library to read path of this file, etc. \n",
    "\n",
    "# Setting options for the Pandas library to display all columns and rows in the dataset if required\n",
    "pd.options.display.max_columns = None\n",
    "pd.options.display.max_rows = None\n",
    "\n",
    "# This line of code is to display the charts within the Jupyter Notebook\n",
    "%matplotlib inline"
   ]
  },
  {
   "cell_type": "markdown",
   "id": "4cdd72f1",
   "metadata": {},
   "source": []
  }
 ],
 "metadata": {
  "kernelspec": {
   "display_name": "Python 3 (ipykernel)",
   "language": "python",
   "name": "python3"
  },
  "language_info": {
   "codemirror_mode": {
    "name": "ipython",
    "version": 3
   },
   "file_extension": ".py",
   "mimetype": "text/x-python",
   "name": "python",
   "nbconvert_exporter": "python",
   "pygments_lexer": "ipython3",
   "version": "3.9.12"
  }
 },
 "nbformat": 4,
 "nbformat_minor": 5
}
